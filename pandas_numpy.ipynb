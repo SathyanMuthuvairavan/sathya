{
  "nbformat": 4,
  "nbformat_minor": 0,
  "metadata": {
    "colab": {
      "provenance": [],
      "include_colab_link": true
    },
    "kernelspec": {
      "name": "python3",
      "display_name": "Python 3"
    },
    "language_info": {
      "name": "python"
    }
  },
  "cells": [
    {
      "cell_type": "markdown",
      "metadata": {
        "id": "view-in-github",
        "colab_type": "text"
      },
      "source": [
        "<a href=\"https://colab.research.google.com/github/SathyanMuthuvairavan/sathya/blob/main/pandas_numpy.ipynb\" target=\"_parent\"><img src=\"https://colab.research.google.com/assets/colab-badge.svg\" alt=\"Open In Colab\"/></a>"
      ]
    },
    {
      "cell_type": "code",
      "execution_count": 8,
      "metadata": {
        "id": "-liOzdl-Ggls",
        "colab": {
          "base_uri": "https://localhost:8080/"
        },
        "outputId": "8fa81a8d-9d7a-41a4-c960-c9b921e388bb"
      },
      "outputs": [
        {
          "output_type": "stream",
          "name": "stdout",
          "text": [
            "['ca', 'ka', 'in']\n",
            "<class 'list'>\n"
          ]
        }
      ],
      "source": [
        "import pandas as pd\n",
        "df = ['ca','ka','in']\n",
        "print (df)\n",
        "\n",
        "print (type (df))"
      ]
    },
    {
      "cell_type": "code",
      "source": [],
      "metadata": {
        "id": "Fk85nHLzN-Oy"
      },
      "execution_count": null,
      "outputs": []
    }
  ]
}